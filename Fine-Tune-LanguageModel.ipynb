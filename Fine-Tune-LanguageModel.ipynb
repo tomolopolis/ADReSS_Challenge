{
 "cells": [
  {
   "cell_type": "code",
   "execution_count": 29,
   "metadata": {},
   "outputs": [],
   "source": [
    "from math import sqrt\n",
    "import regex as re\n",
    "import os\n",
    "from glob import glob\n",
    "import numpy as np\n",
    "import pandas as pd\n",
    "import torch\n",
    "import torch.nn\n",
    "from torch.utils.data import DataLoader, Dataset\n",
    "import transformers as ppb\n",
    "import warnings\n",
    "import xml.etree.ElementTree as ET\n",
    "import json\n",
    "\n",
    "warnings.filterwarnings('ignore')"
   ]
  },
  {
   "cell_type": "markdown",
   "metadata": {},
   "source": [
    "### Fine-tune using BNC Corpus"
   ]
  },
  {
   "cell_type": "code",
   "execution_count": null,
   "metadata": {},
   "outputs": [],
   "source": [
    "# prep-clean up documents\n",
    "# Feed into BERT / roBERTa to fine-tune language model"
   ]
  },
  {
   "cell_type": "code",
   "execution_count": 233,
   "metadata": {},
   "outputs": [],
   "source": [
    "bnc_corpus_loc = '../data/bnc2014spoken-xml/spoken/untagged/*'"
   ]
  },
  {
   "cell_type": "code",
   "execution_count": null,
   "metadata": {},
   "outputs": [],
   "source": [
    "[[set(e.tag) for e in els] for els in child_els.values()]"
   ]
  },
  {
   "cell_type": "code",
   "execution_count": 454,
   "metadata": {},
   "outputs": [
    {
     "data": {
      "text/plain": [
       "'../data/bnc2014spoken-xml/spoken/untagged/SQ2W.xml'"
      ]
     },
     "execution_count": 454,
     "metadata": {},
     "output_type": "execute_result"
    }
   ],
   "source": [
    "glob(bnc_corpus_loc)[0]"
   ]
  },
  {
   "cell_type": "code",
   "execution_count": 468,
   "metadata": {},
   "outputs": [
    {
     "name": "stderr",
     "output_type": "stream",
     "text": [
      "Traceback (most recent call last):\n",
      "  File \"<ipython-input-468-d27e133ea087>\", line 30, in <module>\n",
      "    text.append(ET.fromstring(s).text)\n",
      "  File \"/Users/tom/anaconda3/envs/distil_bert/lib/python3.7/xml/etree/ElementTree.py\", line 1315, in XML\n",
      "    parser.feed(text)\n",
      "  File \"<string>\", line None\n",
      "xml.etree.ElementTree.ParseError: mismatched tag: line 1, column 107\n"
     ]
    },
    {
     "name": "stdout",
     "output_type": "stream",
     "text": [
      "S99Z --- <u n=\"343\" who=\"UNKMALE\" whoConfidence=\"low\">good good ... ... <foreign lang=\"fre\">quelle heure est que ?</u>\n",
      "\n"
     ]
    }
   ],
   "source": [
    "texts = {}\n",
    "text_speakers = {}\n",
    "child_els = {}\n",
    "speakers = {}\n",
    "for file in glob(bnc_corpus_loc):\n",
    "    name = file.split('/')[-1].split('.')[0]\n",
    "    tree = ET.parse(file)\n",
    "    root = tree.getroot()\n",
    "    file_id = root.attrib['id']\n",
    "    speakers[name] = root.find('header').find('list_speakers').text.split(' ')\n",
    "    text_s = []\n",
    "    text = []\n",
    "    c_els = []\n",
    "    utterances = tree.getroot().find('body').findall('u')\n",
    "    for u in utterances:\n",
    "        c_els += u.getchildren()\n",
    "        text_s.append(u.attrib['who'])\n",
    "        s = ET.tostring(u, encoding='unicode')\n",
    "        s = re.sub('<pause dur=\"short\"\\s*/>', '...', s)\n",
    "        s = re.sub('<pause dur=\"long\"\\s*/>', '... ...', s)\n",
    "        s = re.sub('<anon .*\\/>', '', s)\n",
    "        s = re.sub('<shift.*\\/>', '', s)\n",
    "        s = re.sub('<trunc>(\\w*)</trunc>', '\\\\1', s)\n",
    "        s = re.sub('<unclear>(.*)</unclear>', '\\\\1', s)\n",
    "        s = re.sub('<\\/?unclear\\s*\\/?>', '', s)\n",
    "        s = re.sub('<vocal desc=\"laugh\"\\s*\\/>', '&amp;=laughs', s)\n",
    "        s = re.sub('<\\/?event\\s*\\/?>', '', s)\n",
    "        s = re.sub('<foreign.*>(.*)</foreign>', '\\\\1', s)\n",
    "        try:\n",
    "            text.append(ET.fromstring(s).text)\n",
    "        except Exception as e:\n",
    "            import traceback\n",
    "            traceback.print_exc()\n",
    "            print(f'{name} --- {s}')\n",
    "            text.append(s)\n",
    "    child_els[name] = c_els\n",
    "    texts[name] = text\n",
    "    text_speakers[name] = text_s"
   ]
  },
  {
   "cell_type": "markdown",
   "metadata": {},
   "source": [
    "- pause tags become '...'\n",
    "- trunc tags get the text included\n",
    "- shift is ignored.\n",
    "- anon removed - should be replaced with a random place?? \n",
    "- event is ignored\n",
    "- anon is ignored\n",
    "- vocal (laugh), &=laughs"
   ]
  },
  {
   "cell_type": "code",
   "execution_count": null,
   "metadata": {},
   "outputs": [],
   "source": [
    "text_speakers_clean = {k: [s for s, t in zip(v, texts[k]) if t is None or len(t) > 0] for k,v in text_speakers.items()}\n",
    "texts_clean = {k: [t for t in v if t is None or len(t) > 0] for k,v in texts.items()}"
   ]
  },
  {
   "cell_type": "code",
   "execution_count": 503,
   "metadata": {},
   "outputs": [],
   "source": [
    "df = pd.DataFrame([{'file': f, 'speakers': speakers[f], 'text_speaker': text_speakers[f], 'texts': texts[f]} for f in texts.keys()])"
   ]
  },
  {
   "cell_type": "code",
   "execution_count": null,
   "metadata": {},
   "outputs": [],
   "source": [
    "df['texts_joined'] = df.texts.apply(lambda s: '. '.join(s))"
   ]
  },
  {
   "cell_type": "code",
   "execution_count": 13,
   "metadata": {},
   "outputs": [],
   "source": [
    "df.to_excel('bnc_corpus_df.csv', index=False)"
   ]
  },
  {
   "cell_type": "code",
   "execution_count": null,
   "metadata": {},
   "outputs": [],
   "source": [
    "# shuffle and split corpus text 80/20, train / test,\n",
    "# join each text into a single doc "
   ]
  },
  {
   "cell_type": "code",
   "execution_count": 42,
   "metadata": {},
   "outputs": [],
   "source": [
    "df = pd.read_excel('bnc_corpus_df.xlsx')"
   ]
  }
 ],
 "metadata": {
  "kernelspec": {
   "display_name": "Python [conda env:distil_bert]",
   "language": "python",
   "name": "conda-env-distil_bert-py"
  },
  "language_info": {
   "codemirror_mode": {
    "name": "ipython",
    "version": 3
   },
   "file_extension": ".py",
   "mimetype": "text/x-python",
   "name": "python",
   "nbconvert_exporter": "python",
   "pygments_lexer": "ipython3",
   "version": "3.7.7"
  }
 },
 "nbformat": 4,
 "nbformat_minor": 4
}
