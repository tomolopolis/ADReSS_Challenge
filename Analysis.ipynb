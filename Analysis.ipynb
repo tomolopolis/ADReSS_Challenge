{
 "cells": [
  {
   "cell_type": "code",
   "execution_count": 213,
   "metadata": {},
   "outputs": [],
   "source": [
    "from math import sqrt\n",
    "import regex as re\n",
    "import os\n",
    "from glob import glob\n",
    "import numpy as np\n",
    "import pandas as pd\n",
    "from sklearn.model_selection import train_test_split\n",
    "from sklearn.linear_model import LogisticRegression\n",
    "from sklearn.linear_model import Lasso, Ridge\n",
    "from sklearn.preprocessing import StandardScaler\n",
    "from sklearn.model_selection import GridSearchCV, KFold, RandomizedSearchCV\n",
    "from sklearn.pipeline import Pipeline\n",
    "from sklearn.feature_extraction.text import TfidfVectorizer\n",
    "from sklearn.ensemble import GradientBoostingClassifier, GradientBoostingRegressor\n",
    "from sklearn.svm import SVC, SVR\n",
    "from sklearn.model_selection import cross_val_score\n",
    "from sklearn.metrics import precision_recall_fscore_support, mean_squared_error, accuracy_score\n",
    "\n",
    "import sklearn_crfsuite\n",
    "from sklearn_crfsuite import scorers\n",
    "from sklearn_crfsuite import metrics\n",
    "\n",
    "import scipy\n",
    "\n",
    "import torch\n",
    "import transformers as ppb\n",
    "import warnings\n",
    "\n",
    "from xgboost import XGBClassifier, XGBRFClassifier, XGBRegressor, XGBRFRegressor\n",
    "from xgboost import plot_importance\n",
    "from xgboost import plot_importance\n",
    "from matplotlib import pyplot as plt\n",
    "\n",
    "warnings.filterwarnings('ignore')"
   ]
  },
  {
   "cell_type": "markdown",
   "metadata": {},
   "source": [
    "## Interspeech 2020 Challenge\n",
    "Deadline: May 8th submission of predictions and paper.\n",
    "\n",
    "Main Webpage: http://www.interspeech2020.org/index.php?m=content&c=index&a=lists&catid=66\n",
    "\n",
    "Challenge Webpage: http://www.homepages.ed.ac.uk/sluzfil/ADReSS/"
   ]
  },
  {
   "cell_type": "markdown",
   "metadata": {},
   "source": [
    "# Initial Plan\n",
    "Only using the transcripts:\n",
    "- [x] Simple clean and join all sentences, classifiy using DistillBERT, (BERT), (RoBERTa)   ## Done\n",
    "\n",
    "## Further Feature Engineering:\n",
    "### Time dimension\n",
    "- Embed time total time taken - parse time blocks, take first and last\n",
    "- Embed total time taken per sentence\n",
    "- Time before starting speech\n",
    "- Time in between each sentence\n",
    "- Average / min / max / median time of sentence\n",
    "- use of special characters\n",
    "- number of sentences spoken\n",
    "\n",
    "### Linguistic Features\n",
    "- Embed special character tokens in speech, pauses etc. (not sure if this needed, tokenzier / and\n",
    "- classify on a sentence level??\n",
    "- Also use the Interviewer INV, questions / speech / time...\n",
    "- Use POS Tags: as OHE vector\n",
    "\n",
    "## Demographics\n",
    "- Gender\n",
    "- Age\n",
    "\n",
    "## Fine-tuning BERT(-esque) models on spontaneous speech datasets\n",
    "- fine-tune and re-classify using other spontaneous speech datasets: \n",
    "\n",
    "### Further work on\n",
    "- Analysis of what roBERTa has actually learned in the attention heads"
   ]
  },
  {
   "cell_type": "code",
   "execution_count": 2,
   "metadata": {},
   "outputs": [],
   "source": [
    "prob_ad_dir = '../train/transcription/cd/*'\n",
    "controls_dir = '../train/transcription/cc/*'"
   ]
  },
  {
   "cell_type": "code",
   "execution_count": 272,
   "metadata": {},
   "outputs": [],
   "source": [
    "def extract_data(file_name):\n",
    "    par = {}\n",
    "    par['id'] = file_name.split('/')[-1].split('.cha')[0]\n",
    "    f = iter(open(file_name))\n",
    "    l = next(f)\n",
    "    speech = []\n",
    "    try:\n",
    "        curr_speech = ''\n",
    "        while (True):\n",
    "            if l.startswith('@ID'):\n",
    "                participant = [i.strip() for i in l.split('|')]\n",
    "                if participant[2] == 'PAR':\n",
    "                    par['mmse'] = '' if len(participant[8]) == 0 else float(participant[8])\n",
    "                    par['sex'] = participant[4][0]\n",
    "                    par['age'] = int(participant[3].replace(';', ''))\n",
    "            if l.startswith('*PAR:') or l.startswith('*INV'):\n",
    "                curr_speech = l\n",
    "            elif len(curr_speech) != 0 and not(l.startswith('%') or l.startswith('*')):\n",
    "                curr_speech += l\n",
    "            elif len(curr_speech) > 0:\n",
    "                speech.append(curr_speech)\n",
    "                curr_speech = ''\n",
    "            l = next(f)\n",
    "    except StopIteration:\n",
    "        pass\n",
    "\n",
    "    clean_par_speech = []\n",
    "    clean_all_speech = []\n",
    "    par_speech_time_segments = []\n",
    "    all_speech_time_segments = []\n",
    "    is_par = False\n",
    "    for s in speech:\n",
    "        def _parse_time(s):\n",
    "            return [*map(int, re.search('\\x15(\\d*_\\d*)\\x15', s).groups()[0].split('_'))]\n",
    "        \n",
    "        def _clean(s):\n",
    "            s = re.sub('\\x15\\d*_\\d*\\x15', '', s) # remove time block \n",
    "            s = re.sub('\\[.*\\]', '', s) # remove other speech artifacts [.*]\n",
    "            s = s.strip()\n",
    "            s = re.sub('\\t|\\n|<|>', '', s) # remove tab, new lines, inferred speech??, ampersand, &\n",
    "            return s\n",
    "        \n",
    "        if s.startswith('*PAR:'):\n",
    "            is_par = True\n",
    "        elif s.startswith('*INV:'):\n",
    "            is_par = False\n",
    "            s = re.sub('\\*INV:\\t', '', s) # remove prefix\n",
    "        if is_par:\n",
    "            s = re.sub('\\*PAR:\\t', '', s) # remove prefix    \n",
    "            par_speech_time_segments.append(_parse_time(s))\n",
    "            clean_par_speech.append(_clean(s))\n",
    "        all_speech_time_segments.append(_parse_time(s))\n",
    "        clean_all_speech.append(_clean(s))\n",
    "        \n",
    "    par['speech'] = speech\n",
    "    par['clean_speech'] = clean_all_speech\n",
    "    par['clean_par_speech'] = clean_par_speech\n",
    "    par['joined_all_speech'] = ' '.join(clean_all_speech)\n",
    "    par['joined_all_par_speech'] = ' '.join(clean_par_speech)\n",
    "    \n",
    "    # sentence times\n",
    "    par['per_sent_times'] = [par_speech_time_segments[i][1] - par_speech_time_segments[i][0] for i in range(len(par_speech_time_segments))]\n",
    "    par['total_time'] =  par_speech_time_segments[-1][1] - par_speech_time_segments[0][0]\n",
    "    par['time_before_par_speech'] = par_speech_time_segments[0][0]\n",
    "    par['time_between_sents'] = [0 if i == 0 else max(0, par_speech_time_segments[i][0] - par_speech_time_segments[i-1][1]) \n",
    "                                 for i in range(len(par_speech_time_segments))]\n",
    "    return par"
   ]
  },
  {
   "cell_type": "code",
   "execution_count": 273,
   "metadata": {},
   "outputs": [],
   "source": [
    "def parse_train_data():\n",
    "    return _parse_data('../data/train')\n",
    "    \n",
    "def parse_test_data():\n",
    "    return _parse_data('../data/test')\n",
    "\n",
    "def parse_pre_train_data():\n",
    "    return _parse_data('/data/train')\n",
    "\n",
    "def _parse_data(data_dir):\n",
    "    prob_ad_dir = f'{data_dir}/transcription/cd/*'\n",
    "    controls_dir = f'{data_dir}/transcription/cc/*'\n",
    "    \n",
    "    prob_ad = [extract_data(fn) for fn in glob(prob_ad_dir)]\n",
    "    controls = [extract_data(fn) for fn in glob(controls_dir)]\n",
    "    controls_df = pd.DataFrame(controls)\n",
    "    prob_ad_df = pd.DataFrame(prob_ad)\n",
    "    controls_df['ad'] = 0\n",
    "    prob_ad_df['ad'] = 1\n",
    "    df = pd.concat([controls_df, prob_ad_df]).sample(frac=1).reset_index(drop=True)\n",
    "    return df"
   ]
  },
  {
   "cell_type": "code",
   "execution_count": 274,
   "metadata": {},
   "outputs": [],
   "source": [
    "train_df = parse_train_data()"
   ]
  },
  {
   "cell_type": "markdown",
   "metadata": {},
   "source": [
    "### Base-line TF-IDF -> GBDT / SVM Models"
   ]
  },
  {
   "cell_type": "code",
   "execution_count": 7,
   "metadata": {},
   "outputs": [],
   "source": [
    "random_state = 42"
   ]
  },
  {
   "cell_type": "code",
   "execution_count": 8,
   "metadata": {},
   "outputs": [],
   "source": [
    "def cv10_avg(score, model, features, labels):\n",
    "    return round(cross_val_score(model, features, labels, cv=10, scoring=score).sum() / 10, 2)"
   ]
  },
  {
   "cell_type": "code",
   "execution_count": 136,
   "metadata": {},
   "outputs": [],
   "source": [
    "def baseline_models(text: pd.Series, labels: list, mmse: list, xgb=True, shuffle=True, print_stats=True):\n",
    "    ## AD Classification Pred\n",
    "    # sklearn pipeline\n",
    "    param_space = {\n",
    "        'vec__max_features': [100, 500, 1000, 2000, 10000],\n",
    "        'vec__stop_words': ['english', None],\n",
    "        'vec__analyzer': ['word', 'char'],\n",
    "        'vec__sublinear_tf': [True, False]       \n",
    "    }    \n",
    "    if xgb:\n",
    "        param_space['clf__n_estimators'] = [100, 200, 500]  \n",
    "        param_space['clf__max_depth'] = [3, 5, 10]\n",
    "    else:\n",
    "        param_space['clf__C'] = [0.1, 0.5, 1.]              \n",
    "        param_space['clf__kernel'] = ['rbf', 'sigmoid']    \n",
    "\n",
    "    clf_pipe = Pipeline([\n",
    "        ('vec', TfidfVectorizer()),\n",
    "        ('clf', XGBClassifier(probability=True)) if xgb else ('clf', SVC(probability=True))\n",
    "    ])\n",
    "    train_features, test_features, train_labels, test_labels = train_test_split(text, labels, random_state=random_state, test_size=0.2, shuffle=shuffle)\n",
    "    search = GridSearchCV(clf_pipe, param_space, cv=5, n_jobs=6)\n",
    "    search.fit(train_features, train_labels)\n",
    "\n",
    "    clf_pipe.set_params(**search.best_params_)\n",
    "    print(search.best_params_)\n",
    "    clf_pipe.fit(train_features, train_labels)\n",
    "    preds = clf_pipe.predict(test_features)\n",
    "    if print_stats:\n",
    "        print('prec, rec, f1 test', precision_recall_fscore_support(test_labels, preds))\n",
    "        print(f'accu:{cv10_avg(\"accuracy\", clf_pipe, text, labels)}')\n",
    "        print(f'prec:{cv10_avg(\"precision\", clf_pipe, text, labels)}')\n",
    "        print(f'rec:{cv10_avg(\"recall\", clf_pipe, text, labels)}')\n",
    "        print(f'f1:{cv10_avg(\"f1\", clf_pipe, text, labels)}')\n",
    "\n",
    "    ## MMSE Regression Pred\n",
    "    reg_features, reg_scores = text.drop([i for i, s in enumerate(mmse) if s == '']).reset_index(drop=True), [s for s in mmse if s != '']\n",
    "    train_features, test_features, train_scores, test_scores = train_test_split(reg_features, reg_scores, random_state=random_state, test_size=0.2, shuffle=shuffle)\n",
    "\n",
    "    # sklearn pipeline\n",
    "    param_space = {\n",
    "        'vec__max_features': [100, 500, 1000, 2000, 10000],\n",
    "        'vec__stop_words': ['english', None],\n",
    "        'vec__analyzer': ['word', 'char'],\n",
    "        'vec__sublinear_tf': [True, False]\n",
    "    }    \n",
    "    if xgb:\n",
    "        param_space['clf__n_estimators'] = [100, 200, 500]  \n",
    "        param_space['clf__max_depth'] = [3, 5, 10]  \n",
    "    else:\n",
    "        param_space['clf__C'] = [0.1, 0.5, 1.]              \n",
    "        param_space['clf__kernel'] = ['rbf', 'sigmoid']   \n",
    "\n",
    "    rgs_pipe = Pipeline([\n",
    "        ('vec', TfidfVectorizer()),\n",
    "        ('clf', XGBRegressor()) if xgb else ('clf', SVR())\n",
    "    ])\n",
    "\n",
    "    search = GridSearchCV(rgs_pipe, param_space, cv=5, n_jobs=6)\n",
    "    search.fit(train_features, train_scores)\n",
    "\n",
    "    rgs_pipe.set_params(**search.best_params_)\n",
    "    print(search.best_params_)\n",
    "    rgs_pipe.fit(train_features, train_scores)\n",
    "    preds = rgs_pipe.predict(test_features)\n",
    "    if print_stats:\n",
    "        print('rmse test:', sqrt(mean_squared_error(test_scores, preds)))\n",
    "        print('rmse cv:', cross_val_score(rgs_pipe, reg_features, reg_scores, cv=10, scoring='neg_root_mean_squared_error').sum() / 10)\n",
    "\n",
    "    return clf_pipe, rgs_pipe"
   ]
  },
  {
   "cell_type": "code",
   "execution_count": 273,
   "metadata": {},
   "outputs": [
    {
     "name": "stdout",
     "output_type": "stream",
     "text": [
      "{'clf__C': 1.0, 'clf__kernel': 'rbf', 'vec__analyzer': 'word', 'vec__max_features': 1000, 'vec__stop_words': None, 'vec__sublinear_tf': True}\n",
      "prec, rec, f1 test (array([0.84615385, 1.        ]), array([1.        , 0.81818182]), array([0.91666667, 0.9       ]), array([11, 11]))\n",
      "accu:0.86\n",
      "prec:0.91\n",
      "rec:0.84\n",
      "f1:0.85\n",
      "{'clf__C': 1.0, 'clf__kernel': 'sigmoid', 'vec__analyzer': 'word', 'vec__max_features': 100, 'vec__stop_words': 'english', 'vec__sublinear_tf': True}\n",
      "rmse test: 6.715101139865216\n",
      "rmse cv: -5.828961412118949\n"
     ]
    }
   ],
   "source": [
    "# SVM - par speech only\n",
    "clf_svm, rgs_svm = baseline_models(train_df.joined_all_par_speech, train_df.ad,  train_df.mmse, xgb=False)"
   ]
  },
  {
   "cell_type": "code",
   "execution_count": 274,
   "metadata": {},
   "outputs": [
    {
     "name": "stdout",
     "output_type": "stream",
     "text": [
      "{'clf__C': 1.0, 'clf__kernel': 'rbf', 'vec__analyzer': 'word', 'vec__max_features': 500, 'vec__stop_words': None, 'vec__sublinear_tf': True}\n",
      "prec, rec, f1 test (array([0.83333333, 0.9       ]), array([0.90909091, 0.81818182]), array([0.86956522, 0.85714286]), array([11, 11]))\n",
      "accu:0.88\n",
      "prec:0.92\n",
      "rec:0.87\n",
      "f1:0.87\n",
      "{'clf__C': 1.0, 'clf__kernel': 'sigmoid', 'vec__analyzer': 'word', 'vec__max_features': 100, 'vec__stop_words': None, 'vec__sublinear_tf': True}\n",
      "rmse test: 6.674597551339369\n",
      "rmse cv: -5.734230349579695\n"
     ]
    }
   ],
   "source": [
    "# SVM - par + inv speech\n",
    "clf_svm, rgs_svm = baseline_models(train_df.joined_all_speech, train_df.ad, train_df.mmse, xgb=False)"
   ]
  },
  {
   "cell_type": "code",
   "execution_count": 412,
   "metadata": {},
   "outputs": [
    {
     "name": "stdout",
     "output_type": "stream",
     "text": [
      "{'clf__max_depth': 5, 'clf__n_estimators': 100, 'vec__analyzer': 'word', 'vec__max_features': 100, 'vec__stop_words': 'english', 'vec__sublinear_tf': False}\n",
      "prec, rec, f1 test (array([0.8, 1. ]), array([1.        , 0.85714286]), array([0.88888889, 0.92307692]), array([ 8, 14]))\n",
      "accu:0.82\n",
      "prec:0.84\n",
      "rec:0.82\n",
      "f1:0.81\n",
      "{'clf__max_depth': 3, 'clf__n_estimators': 100, 'vec__analyzer': 'word', 'vec__max_features': 100, 'vec__stop_words': None, 'vec__sublinear_tf': True}\n",
      "rmse test: 5.395851815404023\n",
      "rmse cv: -5.9329590583008045\n"
     ]
    }
   ],
   "source": [
    "# XGBoost - par speech only\n",
    "clf_xgb_par, rgs_xgb_par = baseline_models(train_df.joined_all_par_speech, train_df.ad, train_df.mmse, xgb=True)"
   ]
  },
  {
   "cell_type": "code",
   "execution_count": 249,
   "metadata": {},
   "outputs": [
    {
     "name": "stdout",
     "output_type": "stream",
     "text": [
      "{'clf__max_depth': 3, 'clf__n_estimators': 100, 'vec__analyzer': 'word', 'vec__max_features': 100, 'vec__stop_words': 'english', 'vec__sublinear_tf': False}\n",
      "prec, rec, f1 test (array([0.75, 0.8 ]), array([0.81818182, 0.72727273]), array([0.7826087 , 0.76190476]), array([11, 11]))\n",
      "accu:0.79\n",
      "prec:0.8\n",
      "rec:0.82\n",
      "f1:0.79\n",
      "{'clf__max_depth': 3, 'clf__n_estimators': 200, 'vec__analyzer': 'char', 'vec__max_features': 100, 'vec__stop_words': 'english', 'vec__sublinear_tf': False}\n",
      "rmse test: 6.370420306954228\n",
      "rmse cv: -5.603149994529027\n"
     ]
    }
   ],
   "source": [
    "# XGBoost - par + inv speech\n",
    "clf_xgb_all, rgs_xgb_all = baseline_models(train_df.joined_all_par_speech, train_df.ad, train_df.mmse, xgb=True)"
   ]
  },
  {
   "cell_type": "markdown",
   "metadata": {},
   "source": [
    "## Segment Based Models\n",
    "- Treating each participant utterance as seperate data points"
   ]
  },
  {
   "cell_type": "code",
   "execution_count": 379,
   "metadata": {},
   "outputs": [],
   "source": [
    "# explode out each segment into AD / control segments\n",
    "# Do not shuffle, as parent level segments have already been shuffled\n",
    "segmented_speech = train_df.apply(lambda r: pd.DataFrame({'t_id': r.id, 'part_id': [str(i) for i, _ in enumerate(r.clean_par_speech)], 'speech_sent': r.clean_par_speech, 'ad': r.ad, 'mmse': r.mmse, 'age': r.age, 'sex': 1 if r.sex == 'm' else 0}), axis=1).tolist()\n",
    "train_df_segments = pd.concat(segmented_speech).reset_index(drop=True)"
   ]
  },
  {
   "cell_type": "code",
   "execution_count": 380,
   "metadata": {},
   "outputs": [],
   "source": [
    "# time features\n",
    "# - Embed time total time taken \n",
    "# - parse time blocks, take first and last\n",
    "# - Embed total time taken per sentence\n",
    "# - Time before starting speech\n",
    "# - Time in between each sentence\n",
    "# - Average / min / max / median time of sentence\n",
    "time_dims = train_df.loc[:, ['id', 'total_time', 'time_between_sents', 'per_sent_times']]\n",
    "time_dims['avg_sent_time'] = time_dims.per_sent_times.apply(lambda t: round(sum(t) / len(t)))\n",
    "time_dims['max_sent_time'] = time_dims.per_sent_times.apply(max)\n",
    "time_dims['min_sent_time'] = time_dims.per_sent_times.apply(min)\n",
    "time_dims_eng = time_dims.drop('time_between_sents', axis=1)\n",
    "\n",
    "def time_seg_df(r):\n",
    "    return pd.DataFrame({'t_id': r.id,\n",
    "                         'part_id': [str(i) for i, _ in enumerate(r.per_sent_times)],\n",
    "                         'total_time': r.total_time, \n",
    "                         'segment_time': [t for t in r.per_sent_times],\n",
    "                         'avg_sent_time': r.avg_sent_time,\n",
    "                         'max_sent_time': r.max_sent_time,\n",
    "                         'min_sent_time': r.min_sent_time,\n",
    "                         })\n",
    "time_dim_segments = pd.concat(time_dims_eng.apply(time_seg_df, axis=1).tolist())\n",
    "\n",
    "scaled = StandardScaler().fit_transform(time_dim_segments.loc[:, d_cols])\n",
    "\n",
    "d_cols = [c for c in time_dim_segments.columns if c not in ['t_id', 'part_id']]\n",
    "scaled = StandardScaler().fit_transform(time_dim_segments.loc[:, d_cols])\n",
    "for i, col in enumerate(d_cols):\n",
    "    time_dim_segments[col] = scaled[:, i]"
   ]
  },
  {
   "cell_type": "code",
   "execution_count": 381,
   "metadata": {},
   "outputs": [],
   "source": [
    "train_df_segments.age = StandardScaler().fit_transform(pd.DataFrame(train_df_segments.age.to_numpy()).to_numpy())"
   ]
  },
  {
   "cell_type": "code",
   "execution_count": 382,
   "metadata": {},
   "outputs": [],
   "source": [
    "train_df_segments = train_df_segments.merge(time_dim_segments, on=['t_id', 'part_id'])"
   ]
  },
  {
   "cell_type": "code",
   "execution_count": 45,
   "metadata": {},
   "outputs": [
    {
     "name": "stdout",
     "output_type": "stream",
     "text": [
      "{'clf__C': 1.0, 'clf__kernel': 'rbf', 'vec__analyzer': 'word', 'vec__max_features': 1000, 'vec__stop_words': None, 'vec__sublinear_tf': True}\n",
      "prec, rec, f1 test (array([0.93700787, 0.63905325]), array([0.66111111, 0.93103448]), array([0.7752443 , 0.75789474]), array([180, 116]))\n",
      "accu:0.72\n",
      "prec:0.73\n",
      "rec:0.72\n",
      "f1:0.72\n"
     ]
    }
   ],
   "source": [
    "# SVM - segmented\n",
    "clf_svm_segment, rgs_svm_segments = baseline_models(train_df_segments.speech_sent, train_df_segments.ad, train_df_segments.mmse, xgb=False, shuffle=False, print_stats=False) "
   ]
  },
  {
   "cell_type": "code",
   "execution_count": 15,
   "metadata": {},
   "outputs": [
    {
     "name": "stdout",
     "output_type": "stream",
     "text": [
      "{'clf__max_depth': 3, 'clf__n_estimators': 100, 'vec__analyzer': 'word', 'vec__max_features': 1000, 'vec__stop_words': None, 'vec__sublinear_tf': False}\n",
      "prec, rec, f1 test (array([0.67625899, 0.68152866]), array([0.65277778, 0.70394737]), array([0.66431095, 0.69255663]), array([144, 152]))\n",
      "accu:0.68\n",
      "prec:0.67\n",
      "rec:0.72\n",
      "f1:0.69\n",
      "{'clf__max_depth': 3, 'clf__n_estimators': 100, 'vec__analyzer': 'word', 'vec__max_features': 500, 'vec__stop_words': None, 'vec__sublinear_tf': False}\n",
      "rmse test: 6.489430926085308\n",
      "rmse cv: -6.842354524498984\n"
     ]
    }
   ],
   "source": [
    "# XGBoost - segmented\n",
    "clf_xgb_segments, rgs_xgb_segments = baseline_models(train_df_segments.speech_sent, train_df_segments.ad, train_df_segments.mmse, xgb=True, shuffle=False, print_stats=False) "
   ]
  },
  {
   "cell_type": "code",
   "execution_count": 392,
   "metadata": {},
   "outputs": [],
   "source": [
    "def features(df, base_clf_ft_probs, r, i):\n",
    "    # base clf \n",
    "    seq = df[base_clf_ft_probs].tolist()\n",
    "    seq_item = seq[i]\n",
    "    features = {\n",
    "        'bias': 1.,\n",
    "        'prob_ad': seq_item[1],\n",
    "        'prob_cc': seq_item[0],\n",
    "        # time based features\n",
    "        'total_time': r.total_time,\n",
    "        'segment_time': r.segment_time,\n",
    "        'avg_sent_time': r.avg_sent_time,\n",
    "        'max_sent_time': r.max_sent_time,\n",
    "        'min_sent_time': r.min_sent_time,\n",
    "        # demographics\n",
    "        'age': r.age,\n",
    "        'sex': r.sex,\n",
    "        # add in POS tags vectors?\n",
    "    }\n",
    "    # context features\n",
    "    if i > 0:\n",
    "        features.update({\n",
    "            '-1:prob_ad': seq[i-1][1],\n",
    "            '-1:prob_ad': seq[i-1][0],\n",
    "            '-1:segment_time': df.iloc[i-1].segment_time\n",
    "        })\n",
    "    else:\n",
    "        features['BOS'] = True\n",
    "    \n",
    "    if i < len(seq) - 1:\n",
    "        features.update({\n",
    "            '+1:prob_ad': seq[i+1][1],\n",
    "            '+1:prob_cc': seq[i+1][0],\n",
    "            '+1:segment_time': df.iloc[i+1].segment_time\n",
    "        })\n",
    "    else:\n",
    "        features['EOS'] = True\n",
    "    return features"
   ]
  },
  {
   "cell_type": "code",
   "execution_count": 398,
   "metadata": {},
   "outputs": [],
   "source": [
    "def cv_linear_CRF(base_clf_feature_name, segment_model):\n",
    "    accus, precs, recall, f1s = [], [], [], []\n",
    "    kf = KFold(n_splits=10, random_state=random_state, shuffle=False)\n",
    "    accus, precs, recall, f1s = [], [], [], []\n",
    "    for train_idxs, test_idxs in kf.split(train_df):\n",
    "        train_x_y =  train_df_segments[train_df_segments.t_id.isin(train_df.iloc[train_idxs].id)]\n",
    "        test_x_y = train_df_segments[train_df_segments.t_id.isin(train_df.iloc[test_idxs].id)]\n",
    "        train_x, train_y = train_x_y, train_x_y.ad.tolist()\n",
    "        test_x, test_y = test_x_y, test_x_y.ad.tolist()\n",
    "\n",
    "        # refit the base sentence 'embedding layer'. We've already found optimal hyper params - so no need to CV this model\n",
    "        segment_model.fit(train_x.speech_sent, train_y)\n",
    "        train_x[base_clf_feature_name] = segment_model.predict_proba(train_x.speech_sent).tolist()\n",
    "        test_x[base_clf_feature_name] = segment_model.predict_proba(test_x.speech_sent).tolist()\n",
    "\n",
    "        # Collapse sequences back into DataFrame with CRF features.\n",
    "        def crf_featurize(X, y):\n",
    "            collapsed_df = {'t_id': [], 'crf_features': [], 'ad': []}\n",
    "            for t_id, pt_sq in X.groupby('t_id', sort=False):\n",
    "                collapsed_df['t_id'].append(t_id)\n",
    "                collapsed_df['crf_features'].append([features(pt_sq, base_clf_feature_name, r, i) for i, r in enumerate(pt_sq.itertuples())])\n",
    "                collapsed_df['ad'].append([str(i) for i in pt_sq.ad])\n",
    "            collapsed_df = pd.DataFrame(collapsed_df)\n",
    "            return collapsed_df\n",
    "\n",
    "        seq_data_train = crf_featurize(train_x, train_y)\n",
    "        seq_data_test = crf_featurize(test_x, test_y)\n",
    "\n",
    "        params_space = {\n",
    "            'c1': scipy.stats.expon(scale=0.5).rvs(size=15),\n",
    "            'c2': scipy.stats.expon(scale=0.05).rvs(size=15),\n",
    "        }\n",
    "\n",
    "        crf = sklearn_crfsuite.CRF(\n",
    "            algorithm='lbfgs',\n",
    "            all_possible_transitions=True\n",
    "        )\n",
    "\n",
    "        gs = GridSearchCV(crf, params_space, cv=5, n_jobs=6)\n",
    "        gs.fit(seq_data_train.crf_features.tolist(), seq_data_train.ad)\n",
    "\n",
    "        # one last fit on all train_data\n",
    "        crf.set_params(**gs.best_params_)\n",
    "        crf.fit(seq_data_train.crf_features.tolist(), seq_data_train.ad)\n",
    "        last_test_labels = [p[-1] for p in seq_data_test.ad]\n",
    "        preds = [p[-1] for p in crf.predict(seq_data_test.crf_features)]\n",
    "        print(precision_recall_fscore_support(last_test_labels, preds, average='binary', pos_label='1'))\n",
    "        accus.append(accuracy_score(last_test_labels, preds))\n",
    "        p, r, f1, _ = precision_recall_fscore_support(last_test_labels, preds, average='binary', pos_label='1')\n",
    "        precs.append(p)\n",
    "        recall.append(r)\n",
    "        f1s.append(f1)\n",
    "    \n",
    "    return accus, precs, recall, f1s, crf"
   ]
  },
  {
   "cell_type": "code",
   "execution_count": 399,
   "metadata": {},
   "outputs": [
    {
     "name": "stdout",
     "output_type": "stream",
     "text": [
      "(1.0, 0.8333333333333334, 0.9090909090909091, None)\n",
      "(0.6666666666666666, 0.5714285714285714, 0.6153846153846153, None)\n",
      "(0.75, 0.75, 0.75, None)\n",
      "(0.8333333333333334, 1.0, 0.9090909090909091, None)\n",
      "(1.0, 1.0, 1.0, None)\n",
      "(1.0, 0.875, 0.9333333333333333, None)\n",
      "(1.0, 1.0, 1.0, None)\n",
      "(0.8, 1.0, 0.888888888888889, None)\n",
      "(1.0, 1.0, 1.0, None)\n",
      "(0.6, 0.75, 0.6666666666666665, None)\n"
     ]
    }
   ],
   "source": [
    "accus, precs, recallyry, f1s, svm_crf_model = cv_linear_CRF('clf_svm_preds', clf_svm_segment)"
   ]
  },
  {
   "cell_type": "code",
   "execution_count": 400,
   "metadata": {},
   "outputs": [
    {
     "name": "stdout",
     "output_type": "stream",
     "text": [
      "avg accu: 0.87\n",
      "avg precs: 0.86\n",
      "avg recall: 0.79\n",
      "avg f1s: 0.87\n"
     ]
    }
   ],
   "source": [
    "print('avg accu:', round(sum(accus) / len(accus), 2))\n",
    "print('avg precs:', round(sum(precs) / len(precs),2))\n",
    "print('avg recall:', round(sum(recall) / len(recall),2))\n",
    "print('avg f1s:', round(sum(f1s) / len(f1s),2))"
   ]
  },
  {
   "cell_type": "code",
   "execution_count": 402,
   "metadata": {},
   "outputs": [
    {
     "data": {
      "text/plain": [
       "<bound method BaseEstimator.get_params of CRF(algorithm='lbfgs', all_possible_states=None, all_possible_transitions=True,\n",
       "    averaging=None, c=None, c1=0.0036552258283559748, c2=0.018382304621495055,\n",
       "    calibration_candidates=None, calibration_eta=None,\n",
       "    calibration_max_trials=None, calibration_rate=None,\n",
       "    calibration_samples=None, delta=None, epsilon=None, error_sensitive=None,\n",
       "    gamma=None, keep_tempfiles=None, linesearch=None, max_iterations=None,\n",
       "    max_linesearch=None, min_freq=None, model_filename=None, num_memories=None,\n",
       "    pa_type=None, period=None, trainer_cls=None, variance=None, verbose=False)>"
      ]
     },
     "execution_count": 402,
     "metadata": {},
     "output_type": "execute_result"
    }
   ],
   "source": [
    "svm_crf_model.get_params"
   ]
  },
  {
   "cell_type": "code",
   "execution_count": 403,
   "metadata": {},
   "outputs": [
    {
     "name": "stdout",
     "output_type": "stream",
     "text": [
      "(1.0, 0.8333333333333334, 0.9090909090909091, None)\n",
      "(0.8, 0.5714285714285714, 0.6666666666666666, None)\n",
      "(0.6666666666666666, 1.0, 0.8, None)\n",
      "(1.0, 1.0, 1.0, None)\n",
      "(0.8, 0.8, 0.8000000000000002, None)\n",
      "(1.0, 0.875, 0.9333333333333333, None)\n",
      "(1.0, 0.6, 0.7499999999999999, None)\n",
      "(0.75, 0.75, 0.75, None)\n",
      "(1.0, 1.0, 1.0, None)\n",
      "(0.6, 0.75, 0.6666666666666665, None)\n",
      "avg accu: 0.84\n",
      "avg precs: 0.86\n",
      "avg recall: 0.82\n",
      "avg f1s: 0.83\n",
      "CPU times: user 45min 10s, sys: 35.1 s, total: 45min 45s\n",
      "Wall time: 46min 36s\n"
     ]
    }
   ],
   "source": [
    "%%time\n",
    "accus, precs, recall, f1s, xgb_crf_model = cv_linear_CRF('clf_xgb_preds', clf_xgb_segments)\n",
    "print('avg accu:', round(sum(accus) / len(accus), 2))\n",
    "print('avg precs:', round(sum(precs) / len(precs),2))\n",
    "print('avg recall:', round(sum(recall) / len(recall),2))\n",
    "print('avg f1s:', round(sum(f1s) / len(f1s),2))"
   ]
  },
  {
   "cell_type": "code",
   "execution_count": 405,
   "metadata": {},
   "outputs": [
    {
     "data": {
      "text/plain": [
       "<bound method BaseEstimator.get_params of CRF(algorithm='lbfgs', all_possible_states=None, all_possible_transitions=True,\n",
       "    averaging=None, c=None, c1=0.3140761504844387, c2=0.00890634380131646,\n",
       "    calibration_candidates=None, calibration_eta=None,\n",
       "    calibration_max_trials=None, calibration_rate=None,\n",
       "    calibration_samples=None, delta=None, epsilon=None, error_sensitive=None,\n",
       "    gamma=None, keep_tempfiles=None, linesearch=None, max_iterations=None,\n",
       "    max_linesearch=None, min_freq=None, model_filename=None, num_memories=None,\n",
       "    pa_type=None, period=None, trainer_cls=None, variance=None, verbose=False)>"
      ]
     },
     "execution_count": 405,
     "metadata": {},
     "output_type": "execute_result"
    }
   ],
   "source": [
    "xgb_crf_model.get_params"
   ]
  },
  {
   "cell_type": "code",
   "execution_count": 355,
   "metadata": {},
   "outputs": [
    {
     "name": "stdout",
     "output_type": "stream",
     "text": [
      "avg accu: 0.8\n",
      "avg precs: 0.84\n",
      "avg recall: 0.74\n",
      "avg f1s: 0.78\n"
     ]
    }
   ],
   "source": [
    "print('avg accu:', round(sum(accus) / len(accus), 2))\n",
    "print('avg precs:', round(sum(precs) / len(precs),2))\n",
    "print('avg recall:', round(sum(recall) / len(recall),2))\n",
    "print('avg f1s:', round(sum(f1s) / len(f1s),2))"
   ]
  },
  {
   "cell_type": "code",
   "execution_count": 351,
   "metadata": {},
   "outputs": [
    {
     "name": "stdout",
     "output_type": "stream",
     "text": [
      "avg accu: 0.82\n",
      "avg precs: 0.84\n",
      "avg recall: 0.79\n",
      "avg f1s: 0.81\n"
     ]
    }
   ],
   "source": [
    "print('avg accu:', round(sum(accus) / len(accus), 2))\n",
    "print('avg precs:', round(sum(precs) / len(precs),2))\n",
    "print('avg recall:', round(sum(recall) / len(recall),2))\n",
    "print('avg f1s:', round(sum(f1s) / len(f1s),2))"
   ]
  },
  {
   "cell_type": "code",
   "execution_count": 409,
   "metadata": {},
   "outputs": [],
   "source": [
    "def feat_impor(pipe):\n",
    "    feat_impor = [(pipe.steps[0][1].get_feature_names()[i], pipe.steps[1][1].feature_importances_[i]) for i in np.argsort(pipe.steps[1][1].feature_importances_)[::-1][0:20]]\n",
    "    labs = [i[0] for i in feat_impor]\n",
    "    scores = [i[1] for i in feat_impor]\n",
    "    return labs, scores"
   ]
  },
  {
   "cell_type": "code",
   "execution_count": 438,
   "metadata": {},
   "outputs": [],
   "source": [
    "def plt_feats(clf_labels, clf_impor, rgs_labels, rgs_impor):\n",
    "    fig, (ax1, ax2)  = plt.subplots(1, 2, figsize=(8, 5))\n",
    "    ax1.barh(range(len(clf_impor)), clf_impor, label='AD Classification')\n",
    "    ax1.set_yticks(range(len(clf_labels)))\n",
    "    ax1.set_ylabel('TF-IDF Feature')\n",
    "    ax1.set_yticklabels(clf_labels)\n",
    "    ax1.yaxis.set_tick_params(labelsize=14)\n",
    "    ax1.set_xlabel('Feature Importance')\n",
    "\n",
    "    ax2.barh(range(len(rgs_labels)), rgs_impor, label='MMSE Regression')\n",
    "    ax2.set_yticks(range(len(rgs_labels)))\n",
    "    ax2.yaxis.set_tick_params(labelsize=14)\n",
    "    ax2.set_yticklabels(rgs_labels)\n",
    "    ax2.set_xlabel('Feature Importance')\n",
    "\n",
    "    # plt.legend([bar1, bar2], [bar1.get_label(), bar2.get_label()], fontsize=12)\n",
    "    plt.tight_layout()\n",
    "    plt.savefig('./feat_impor_xgboost.png')\n",
    "    plt.show()"
   ]
  },
  {
   "cell_type": "code",
   "execution_count": 439,
   "metadata": {},
   "outputs": [
    {
     "data": {
      "image/png": "[encoded data removed]",
      "text/plain": [
       "<Figure size 576x360 with 2 Axes>"
      ]
     },
     "metadata": {
      "needs_background": "light"
     },
     "output_type": "display_data"
    }
   ],
   "source": [
    "# clf_labels, clf_impor = \n",
    "# rgs_labels, rgs_impor =\n",
    "plt_feats(*feat_impor(clf_xgb_par), * feat_impor(rgs_xgb_par))"
   ]
  },
  {
   "cell_type": "markdown",
   "metadata": {},
   "source": [
    "## BERT (type) model Experimentaton"
   ]
  },
  {
   "cell_type": "code",
   "execution_count": 355,
   "metadata": {},
   "outputs": [],
   "source": [
    "# Embedding function\n",
    "def bert_embed(text: pd.Series, tokenizer, model):\n",
    "    tokenized = text.apply((lambda x: tokenizer.encode(x, add_special_tokens=True, max_length=512)))\n",
    "\n",
    "    # pad so can be treated as one batch\n",
    "    max_len = max([len(i) for i in tokenized.values])\n",
    "    padded = np.array([i + [0]*(max_len-len(i)) for i in tokenized.values])\n",
    "\n",
    "    # attention mask - zero out attention scores where there is no input to be processed (i.e. is padding)\n",
    "    attention_mask = np.where(padded != 0, 1, 0)\n",
    "    input_ids = torch.tensor(padded)  \n",
    "    attention_mask = torch.tensor(attention_mask)\n",
    "\n",
    "    device = torch.device('cuda') if torch.cuda.is_available() else torch.device('cpu')\n",
    "\n",
    "    # check if multiple GPUs are available\n",
    "    multi_gpu = torch.cuda.device_count() > 1\n",
    "\n",
    "    if torch.cuda.is_available():\n",
    "        model = model.to(device)\n",
    "        input_ids = input_ids.to(device)\n",
    "        attention_mask = attention_mask.to(device)\n",
    "\n",
    "    with torch.no_grad():\n",
    "        last_hidden_states = model(input_ids, attention_mask=attention_mask)\n",
    "    last_hidden_states = last_hidden_states[0]\n",
    "    if device.type == 'cuda':\n",
    "        last_hidden_states = last_hidden_states.cpu()\n",
    "    features = last_hidden_states[:,0,:].numpy()\n",
    "    return features, attention_mask"
   ]
  },
  {
   "cell_type": "code",
   "execution_count": 327,
   "metadata": {},
   "outputs": [],
   "source": [
    "# linear classifier fit/transform\n",
    "def fit_transform(features, labels: list, mmse: list):\n",
    "    def cv10_avg_nn(score):\n",
    "        return cv10_avg(score, lr_clf, features, labels)\n",
    "\n",
    "    # AD classification task\n",
    "    train_features, test_features, train_labels, test_labels = train_test_split(features, labels, random_state=random_state)\n",
    "    parameters = {'C': np.linspace(0.0001, 100, 20)}\n",
    "    grid_search = GridSearchCV(LogisticRegression(), parameters)\n",
    "    grid_search.fit(train_features, train_labels)\n",
    "    print('best parameters:', grid_search.best_params_)\n",
    "    print('best scores: ', grid_search.best_score_)\n",
    "    lr_clf = LogisticRegression(**grid_search.best_params_)\n",
    "    lr_clf.fit(train_features, train_labels)\n",
    "    preds = lr_clf.predict(test_features)\n",
    "    print('prec, rec, f1 test', precision_recall_fscore_support(test_labels, preds))\n",
    "    print(f'accu:{cv10_avg_nn(\"accuracy\")} prec:{cv10_avg_nn(\"precision\")}, rec:{cv10_avg_nn(\"recall\")}, f1:{cv10_avg_nn(\"f1\")}')\n",
    "          \n",
    "    # MMSE regression task\n",
    "    # remove missing row\n",
    "    reg_features, reg_scores = pd.DataFrame(features).drop([i for i, s in enumerate(mmse) if s == '']).to_numpy(), [s for s in mmse if s != '']\n",
    "    train_features, test_features, train_scores, test_scores = train_test_split(reg_features, reg_scores, random_state=random_state)\n",
    "    parameters = {'alpha': np.linspace(0.001, 100, 20)}\n",
    "    grid_search = GridSearchCV(Ridge(), parameters)\n",
    "    grid_search.fit(train_features, train_scores)\n",
    "    print('best parameters:', grid_search.best_params_)\n",
    "    print('best scores: ', grid_search.best_score_)\n",
    "    reg_model = Ridge(**grid_search.best_params_)\n",
    "    reg_model.fit(train_features, train_scores)\n",
    "    preds = reg_model.predict(test_features)\n",
    "    print('rmse test:', sqrt(mean_squared_error(test_scores, preds)))\n",
    "    print('rmse cv:', cross_val_score(reg_model, reg_features, reg_scores, cv=10, scoring='neg_root_mean_squared_error').sum() / 10)\n",
    "    return lr_clf, reg_model"
   ]
  },
  {
   "cell_type": "code",
   "execution_count": 315,
   "metadata": {},
   "outputs": [],
   "source": [
    "# BERT Large\n",
    "# model_class, tokenizer_class, pretrained_weights = (ppb.BertModel, ppb.BertTokenizer, 'bert-large-uncased')\n",
    "\n",
    "# roBERTa base\n",
    "# model_class, tokenizer_class, pretrained_weights = (ppb.RobertaModel, ppb.RobertaTokenizer, 'roberta-base')"
   ]
  },
  {
   "cell_type": "code",
   "execution_count": 322,
   "metadata": {},
   "outputs": [],
   "source": [
    "def load_transformer_model_tokenizer(model_class, tokenizer_class, pretrained_weights):\n",
    "    tokenizer = tokenizer_class.from_pretrained(pretrained_weights)\n",
    "    model = model_class.from_pretrained(pretrained_weights)\n",
    "    return tokenizer, model"
   ]
  },
  {
   "cell_type": "code",
   "execution_count": 354,
   "metadata": {},
   "outputs": [],
   "source": [
    "def run_model(model_class, tokenizer_class, pretrained_weights, text):\n",
    "    tokenizer, model = load_transformer_model_tokenizer(model_class, tokenizer_class, pretrained_weights)\n",
    "    features, _ = bert_embed(text, tokenizer, model)\n",
    "    clf_model, reg_model = fit_transform(features, train_df.ad, train_df.mmse)\n",
    "    return tokenizer, model, features, clf_model, reg_model"
   ]
  },
  {
   "cell_type": "code",
   "execution_count": 314,
   "metadata": {},
   "outputs": [
    {
     "name": "stdout",
     "output_type": "stream",
     "text": [
      "best parameters: {'C': 5.263252631578947}\n",
      "best scores:  0.8279411764705882\n",
      "prec, rec, f1 test (array([0.81818182, 0.8125    ]), array([0.75      , 0.86666667]), array([0.7826087 , 0.83870968]), array([12, 15]))\n",
      "accu:0.87 prec:0.9, rec:0.87, f1:0.87\n",
      "best parameters: {'alpha': 5.264105263157894}\n",
      "best scores:  0.48426174008121115\n",
      "rmse test: 5.156365006865598\n",
      "rmse cv: -4.496598650519269\n"
     ]
    }
   ],
   "source": [
    "# Distil BERT - par speech\n",
    "model_class, tokenizer_class, pretrained_weights = (ppb.DistilBertModel, ppb.DistilBertTokenizer, 'distilbert-base-uncased')\n",
    "tokenizer, model, features, clf_model, reg_model = run_model(model_class, tokenizer_class, pretrained_weights, train_df.joined_all_par_speech)"
   ]
  },
  {
   "cell_type": "code",
   "execution_count": 317,
   "metadata": {},
   "outputs": [
    {
     "name": "stdout",
     "output_type": "stream",
     "text": [
      "best parameters: {'C': 5.263252631578947}\n",
      "best scores:  0.8294117647058823\n",
      "prec, rec, f1 test (array([1.        , 0.88235294]), array([0.83333333, 1.        ]), array([0.90909091, 0.9375    ]), array([12, 15]))\n",
      "accu:0.84 prec:0.86, rec:0.85, f1:0.82\n",
      "best parameters: {'alpha': 0.001}\n",
      "best scores:  0.39129614202351315\n",
      "rmse test: 5.99993232969807\n",
      "rmse cv: -5.125356983051849\n"
     ]
    }
   ],
   "source": [
    "# Distil roBERTa\n",
    "model_class, tokenizer_class, pretrained_weights = (ppb.RobertaModel, ppb.RobertaTokenizer, 'distilroberta-base')\n",
    "tokenizer, model, features, clf_model, reg_model = run_model(model_class, tokenizer_class, pretrained_weights, train_df.joined_all_par_speech)"
   ]
  },
  {
   "cell_type": "code",
   "execution_count": 318,
   "metadata": {},
   "outputs": [
    {
     "name": "stdout",
     "output_type": "stream",
     "text": [
      "best parameters: {'C': 5.263252631578947}\n",
      "best scores:  0.8294117647058823\n",
      "prec, rec, f1 test (array([1.        , 0.88235294]), array([0.83333333, 1.        ]), array([0.90909091, 0.9375    ]), array([12, 15]))\n",
      "accu:0.84 prec:0.86, rec:0.85, f1:0.82\n",
      "best parameters: {'alpha': 0.001}\n",
      "best scores:  0.39129614202351315\n",
      "rmse test: 5.99993232969807\n",
      "rmse cv: -5.125356983051849\n"
     ]
    }
   ],
   "source": [
    "# BERT Base\n",
    "model_class, tokenizer_class, pretrained_weights = (ppb.BertModel, ppb.BertTokenizer, 'bert-base-uncased')\n",
    "tokenizer, model, features, clf_model, reg_model = run_model(model_class, tokenizer_class, pretrained_weights, train_df.joined_all_par_speech)"
   ]
  },
  {
   "cell_type": "code",
   "execution_count": 326,
   "metadata": {},
   "outputs": [
    {
     "name": "stdout",
     "output_type": "stream",
     "text": [
      "best parameters: {'C': 5.263252631578947}\n",
      "best scores:  0.8147058823529412\n",
      "prec, rec, f1 test (array([0.90909091, 0.875     ]), array([0.83333333, 0.93333333]), array([0.86956522, 0.90322581]), array([12, 15]))\n",
      "accu:0.87 prec:0.89, rec:0.89, f1:0.88\n",
      "best parameters: {'alpha': 5.264105263157894}\n",
      "best scores:  0.4361080418716384\n",
      "rmse test: 5.891775312607294\n",
      "rmse cv: -4.8560381474639875\n"
     ]
    }
   ],
   "source": [
    "# Distil BERT - par + inv speech\n",
    "model_class, tokenizer_class, pretrained_weights = (ppb.DistilBertModel, ppb.DistilBertTokenizer, 'distilbert-base-uncased')\n",
    "tokenizer, model, features, clf_model, reg_model = run_model(model_class, tokenizer_class, pretrained_weights, train_df.joined_all_speech)"
   ]
  },
  {
   "cell_type": "code",
   "execution_count": 339,
   "metadata": {},
   "outputs": [
    {
     "name": "stdout",
     "output_type": "stream",
     "text": [
      "best parameters: {'C': 10.526405263157894}\n",
      "best scores:  0.8169117647058822\n",
      "prec, rec, f1 test (array([1.    , 0.9375]), array([0.91666667, 1.        ]), array([0.95652174, 0.96774194]), array([12, 15]))\n",
      "accu:0.8 prec:0.87, rec:0.79, f1:0.78\n",
      "best parameters: {'alpha': 0.001}\n",
      "best scores:  0.43956916829704706\n",
      "rmse test: 5.961039275583074\n",
      "rmse cv: -4.485702271630474\n"
     ]
    }
   ],
   "source": [
    "# Distil roBERT - par + inv speech\n",
    "model_class, tokenizer_class, pretrained_weights = (ppb.RobertaModel, ppb.RobertaTokenizer, 'distilroberta-base')\n",
    "tokenizer, model, features, clf_model, reg_model = run_model(model_class, tokenizer_class, pretrained_weights, train_df.joined_all_speech)"
   ]
  },
  {
   "cell_type": "code",
   "execution_count": 337,
   "metadata": {},
   "outputs": [
    {
     "data": {
      "application/vnd.jupyter.widget-view+json": {
       "model_id": "19ca069d2bf74fa485aa50e63c74c4fb",
       "version_major": 2,
       "version_minor": 0
      },
      "text/plain": [
       "HBox(children=(FloatProgress(value=0.0, description='Downloading', max=433.0, style=ProgressStyle(description_…"
      ]
     },
     "metadata": {},
     "output_type": "display_data"
    },
    {
     "name": "stdout",
     "output_type": "stream",
     "text": [
      "\n",
      "best parameters: {'C': 5.263252631578947}\n",
      "best scores:  0.7661764705882353\n",
      "prec, rec, f1 test (array([0.90909091, 0.875     ]), array([0.83333333, 0.93333333]), array([0.86956522, 0.90322581]), array([12, 15]))\n",
      "accu:0.75 prec:0.76, rec:0.78, f1:0.74\n",
      "best parameters: {'alpha': 5.264105263157894}\n",
      "best scores:  0.4176459962509897\n",
      "rmse test: 6.609310719210884\n",
      "rmse cv: -5.273888313820208\n"
     ]
    }
   ],
   "source": [
    "# BERT Base -  par + inv speech\n",
    "model_class, tokenizer_class, pretrained_weights = (ppb.BertModel, ppb.BertTokenizer, 'bert-base-uncased')\n",
    "tokenizer, model, features, clf_model, reg_model = run_model(model_class, tokenizer_class, pretrained_weights, train_df.joined_all_speech)"
   ]
  },
  {
   "cell_type": "code",
   "execution_count": 338,
   "metadata": {},
   "outputs": [
    {
     "data": {
      "application/vnd.jupyter.widget-view+json": {
       "model_id": "c8f5cc4b4ada401da60190ee1381c963",
       "version_major": 2,
       "version_minor": 0
      },
      "text/plain": [
       "HBox(children=(FloatProgress(value=0.0, description='Downloading', max=481.0, style=ProgressStyle(description_…"
      ]
     },
     "metadata": {},
     "output_type": "display_data"
    },
    {
     "name": "stdout",
     "output_type": "stream",
     "text": [
      "\n",
      "best parameters: {'C': 15.789557894736841}\n",
      "best scores:  0.7411764705882353\n",
      "prec, rec, f1 test (array([0.76923077, 0.85714286]), array([0.83333333, 0.8       ]), array([0.8       , 0.82758621]), array([12, 15]))\n",
      "accu:0.72 prec:0.71, rec:0.71, f1:0.69\n",
      "best parameters: {'alpha': 0.001}\n",
      "best scores:  0.2898992821805212\n",
      "rmse test: 5.4664368013907065\n",
      "rmse cv: -5.453310614652553\n"
     ]
    }
   ],
   "source": [
    "# roBERTa Base - par + inv speech\n",
    "model_class, tokenizer_class, pretrained_weights = (ppb.RobertaModel, ppb.RobertaTokenizer, 'roberta-base')\n",
    "tokenizer, model, features, clf_model, reg_model = run_model(model_class, tokenizer_class, pretrained_weights, train_df.joined_all_speech)"
   ]
  },
  {
   "cell_type": "code",
   "execution_count": 340,
   "metadata": {},
   "outputs": [
    {
     "data": {
      "application/vnd.jupyter.widget-view+json": {
       "model_id": "fb29f238c1944a058d16fc93cff09407",
       "version_major": 2,
       "version_minor": 0
      },
      "text/plain": [
       "HBox(children=(FloatProgress(value=0.0, description='Downloading', max=898823.0, style=ProgressStyle(descripti…"
      ]
     },
     "metadata": {},
     "output_type": "display_data"
    },
    {
     "name": "stdout",
     "output_type": "stream",
     "text": [
      "\n"
     ]
    },
    {
     "data": {
      "application/vnd.jupyter.widget-view+json": {
       "model_id": "3658efce3b1a46d5ab893e31023e4a6a",
       "version_major": 2,
       "version_minor": 0
      },
      "text/plain": [
       "HBox(children=(FloatProgress(value=0.0, description='Downloading', max=456318.0, style=ProgressStyle(descripti…"
      ]
     },
     "metadata": {},
     "output_type": "display_data"
    },
    {
     "name": "stdout",
     "output_type": "stream",
     "text": [
      "\n"
     ]
    },
    {
     "data": {
      "application/vnd.jupyter.widget-view+json": {
       "model_id": "db98b171999249a782700872eddb0a32",
       "version_major": 2,
       "version_minor": 0
      },
      "text/plain": [
       "HBox(children=(FloatProgress(value=0.0, description='Downloading', max=482.0, style=ProgressStyle(description_…"
      ]
     },
     "metadata": {},
     "output_type": "display_data"
    },
    {
     "name": "stdout",
     "output_type": "stream",
     "text": [
      "\n"
     ]
    },
    {
     "data": {
      "application/vnd.jupyter.widget-view+json": {
       "model_id": "b63ed71337064d6fb15c3c5ed7362ab6",
       "version_major": 2,
       "version_minor": 0
      },
      "text/plain": [
       "HBox(children=(FloatProgress(value=0.0, description='Downloading', max=1425941629.0, style=ProgressStyle(descr…"
      ]
     },
     "metadata": {},
     "output_type": "display_data"
    },
    {
     "name": "stdout",
     "output_type": "stream",
     "text": [
      "\n",
      "best parameters: {'C': 5.263252631578947}\n",
      "best scores:  0.8154411764705882\n",
      "prec, rec, f1 test (array([0.84615385, 0.92857143]), array([0.91666667, 0.86666667]), array([0.88      , 0.89655172]), array([12, 15]))\n",
      "accu:0.81 prec:0.88, rec:0.76, f1:0.79\n",
      "best parameters: {'alpha': 0.001}\n",
      "best scores:  0.39037099767627437\n",
      "rmse test: 5.765437868458934\n",
      "rmse cv: -5.818066430419618\n"
     ]
    }
   ],
   "source": [
    "# roBERTa Large - par + inv speech\n",
    "model_class, tokenizer_class, pretrained_weights = (ppb.RobertaModel, ppb.RobertaTokenizer, 'roberta-large')\n",
    "tokenizer, model, features, clf_model, reg_model = run_model(model_class, tokenizer_class, pretrained_weights, train_df.joined_all_speech)"
   ]
  },
  {
   "cell_type": "code",
   "execution_count": 358,
   "metadata": {},
   "outputs": [],
   "source": [
    "tokenizer, model = load_transformer_model_tokenizer(ppb.DistilBertModel, ppb.DistilBertTokenizer, 'distilbert-base-uncased')\n",
    "sent_features, mask = bert_embed(train_df_segments.speech_sent, tokenizer, model)"
   ]
  },
  {
   "cell_type": "code",
   "execution_count": 370,
   "metadata": {},
   "outputs": [],
   "source": [
    "train_df_segments['features'] = [sent for sent in sent_features]\n",
    "train_df_segments['mask'] = [m for m in mask]"
   ]
  },
  {
   "cell_type": "code",
   "execution_count": 372,
   "metadata": {},
   "outputs": [],
   "source": [
    "np.save('sent_features_ad_chalng_distil_bert.npy', sent_features)"
   ]
  },
  {
   "cell_type": "code",
   "execution_count": 376,
   "metadata": {},
   "outputs": [],
   "source": [
    "np.save('sent_mask_ad_chalng_distil_bert.npy', mask)"
   ]
  },
  {
   "cell_type": "code",
   "execution_count": 380,
   "metadata": {},
   "outputs": [
    {
     "data": {
      "text/plain": [
       "(1476, 6)"
      ]
     },
     "execution_count": 380,
     "metadata": {},
     "output_type": "execute_result"
    }
   ],
   "source": [
    "train_df_segments.shape"
   ]
  },
  {
   "cell_type": "code",
   "execution_count": 386,
   "metadata": {},
   "outputs": [
    {
     "data": {
      "text/html": [
       "<div>\n",
       "<style scoped>\n",
       "    .dataframe tbody tr th:only-of-type {\n",
       "        vertical-align: middle;\n",
       "    }\n",
       "\n",
       "    .dataframe tbody tr th {\n",
       "        vertical-align: top;\n",
       "    }\n",
       "\n",
       "    .dataframe thead th {\n",
       "        text-align: right;\n",
       "    }\n",
       "</style>\n",
       "<table border=\"1\" class=\"dataframe\">\n",
       "  <thead>\n",
       "    <tr style=\"text-align: right;\">\n",
       "      <th></th>\n",
       "      <th>id</th>\n",
       "      <th>speech_sent</th>\n",
       "      <th>ad</th>\n",
       "      <th>mmse</th>\n",
       "      <th>features</th>\n",
       "      <th>mask</th>\n",
       "    </tr>\n",
       "  </thead>\n",
       "  <tbody>\n",
       "    <tr>\n",
       "      <th>0</th>\n",
       "      <td>S072</td>\n",
       "      <td>you mean right now tell you ?</td>\n",
       "      <td>0</td>\n",
       "      <td>29</td>\n",
       "      <td>[0.063634075, -0.02579525, -0.11341515, -0.195...</td>\n",
       "      <td>[tensor(1), tensor(1), tensor(1), tensor(1), t...</td>\n",
       "    </tr>\n",
       "    <tr>\n",
       "      <th>1</th>\n",
       "      <td>S072</td>\n",
       "      <td>&amp;uh the boy is stealing cookies out_of the jar .</td>\n",
       "      <td>0</td>\n",
       "      <td>29</td>\n",
       "      <td>[-0.1428656, 0.107771605, 0.17008701, -0.13180...</td>\n",
       "      <td>[tensor(1), tensor(1), tensor(1), tensor(1), t...</td>\n",
       "    </tr>\n",
       "    <tr>\n",
       "      <th>2</th>\n",
       "      <td>S072</td>\n",
       "      <td>and he's on a stool that's falling down .</td>\n",
       "      <td>0</td>\n",
       "      <td>29</td>\n",
       "      <td>[-0.115731, -0.06755233, 0.051717915, -0.20882...</td>\n",
       "      <td>[tensor(1), tensor(1), tensor(1), tensor(1), t...</td>\n",
       "    </tr>\n",
       "    <tr>\n",
       "      <th>3</th>\n",
       "      <td>S072</td>\n",
       "      <td>and the girl is laughing at him .</td>\n",
       "      <td>0</td>\n",
       "      <td>29</td>\n",
       "      <td>[-0.106318496, -0.04198377, 0.11833834, -0.152...</td>\n",
       "      <td>[tensor(1), tensor(1), tensor(1), tensor(1), t...</td>\n",
       "    </tr>\n",
       "    <tr>\n",
       "      <th>4</th>\n",
       "      <td>S072</td>\n",
       "      <td>and the mother is washing dishes but she's pre...</td>\n",
       "      <td>0</td>\n",
       "      <td>29</td>\n",
       "      <td>[-0.014219768, -0.102059945, 0.15856433, -0.20...</td>\n",
       "      <td>[tensor(1), tensor(1), tensor(1), tensor(1), t...</td>\n",
       "    </tr>\n",
       "    <tr>\n",
       "      <th>...</th>\n",
       "      <td>...</td>\n",
       "      <td>...</td>\n",
       "      <td>...</td>\n",
       "      <td>...</td>\n",
       "      <td>...</td>\n",
       "      <td>...</td>\n",
       "    </tr>\n",
       "    <tr>\n",
       "      <th>1471</th>\n",
       "      <td>S083</td>\n",
       "      <td>telling him to be quiet .</td>\n",
       "      <td>1</td>\n",
       "      <td>30</td>\n",
       "      <td>[-0.20028175, -0.17130803, -0.19182582, -0.256...</td>\n",
       "      <td>[tensor(1), tensor(1), tensor(1), tensor(1), t...</td>\n",
       "    </tr>\n",
       "    <tr>\n",
       "      <th>1472</th>\n",
       "      <td>S083</td>\n",
       "      <td>and &amp;uh let's see .</td>\n",
       "      <td>1</td>\n",
       "      <td>30</td>\n",
       "      <td>[0.022183776, 0.0958084, 0.25372738, -0.208391...</td>\n",
       "      <td>[tensor(1), tensor(1), tensor(1), tensor(1), t...</td>\n",
       "    </tr>\n",
       "    <tr>\n",
       "      <th>1473</th>\n",
       "      <td>S083</td>\n",
       "      <td>in the meantime &amp;uh the mother is washing the ...</td>\n",
       "      <td>1</td>\n",
       "      <td>30</td>\n",
       "      <td>[-0.05771879, -0.07798436, 0.24423543, -0.1021...</td>\n",
       "      <td>[tensor(1), tensor(1), tensor(1), tensor(1), t...</td>\n",
       "    </tr>\n",
       "    <tr>\n",
       "      <th>1474</th>\n",
       "      <td>S083</td>\n",
       "      <td>(..) I don't think I see anything else .</td>\n",
       "      <td>1</td>\n",
       "      <td>30</td>\n",
       "      <td>[0.08366716, 0.04091748, -0.0035671964, -0.260...</td>\n",
       "      <td>[tensor(1), tensor(1), tensor(1), tensor(1), t...</td>\n",
       "    </tr>\n",
       "    <tr>\n",
       "      <th>1475</th>\n",
       "      <td>S083</td>\n",
       "      <td>okay .</td>\n",
       "      <td>1</td>\n",
       "      <td>30</td>\n",
       "      <td>[0.027815111, -0.15054692, 0.16559032, -0.1801...</td>\n",
       "      <td>[tensor(1), tensor(1), tensor(1), tensor(1), t...</td>\n",
       "    </tr>\n",
       "  </tbody>\n",
       "</table>\n",
       "<p>1476 rows × 6 columns</p>\n",
       "</div>"
      ],
      "text/plain": [
       "        id                                        speech_sent  ad mmse  \\\n",
       "0     S072                      you mean right now tell you ?   0   29   \n",
       "1     S072   &uh the boy is stealing cookies out_of the jar .   0   29   \n",
       "2     S072          and he's on a stool that's falling down .   0   29   \n",
       "3     S072                  and the girl is laughing at him .   0   29   \n",
       "4     S072  and the mother is washing dishes but she's pre...   0   29   \n",
       "...    ...                                                ...  ..  ...   \n",
       "1471  S083                          telling him to be quiet .   1   30   \n",
       "1472  S083                                and &uh let's see .   1   30   \n",
       "1473  S083  in the meantime &uh the mother is washing the ...   1   30   \n",
       "1474  S083           (..) I don't think I see anything else .   1   30   \n",
       "1475  S083                                             okay .   1   30   \n",
       "\n",
       "                                               features  \\\n",
       "0     [0.063634075, -0.02579525, -0.11341515, -0.195...   \n",
       "1     [-0.1428656, 0.107771605, 0.17008701, -0.13180...   \n",
       "2     [-0.115731, -0.06755233, 0.051717915, -0.20882...   \n",
       "3     [-0.106318496, -0.04198377, 0.11833834, -0.152...   \n",
       "4     [-0.014219768, -0.102059945, 0.15856433, -0.20...   \n",
       "...                                                 ...   \n",
       "1471  [-0.20028175, -0.17130803, -0.19182582, -0.256...   \n",
       "1472  [0.022183776, 0.0958084, 0.25372738, -0.208391...   \n",
       "1473  [-0.05771879, -0.07798436, 0.24423543, -0.1021...   \n",
       "1474  [0.08366716, 0.04091748, -0.0035671964, -0.260...   \n",
       "1475  [0.027815111, -0.15054692, 0.16559032, -0.1801...   \n",
       "\n",
       "                                                   mask  \n",
       "0     [tensor(1), tensor(1), tensor(1), tensor(1), t...  \n",
       "1     [tensor(1), tensor(1), tensor(1), tensor(1), t...  \n",
       "2     [tensor(1), tensor(1), tensor(1), tensor(1), t...  \n",
       "3     [tensor(1), tensor(1), tensor(1), tensor(1), t...  \n",
       "4     [tensor(1), tensor(1), tensor(1), tensor(1), t...  \n",
       "...                                                 ...  \n",
       "1471  [tensor(1), tensor(1), tensor(1), tensor(1), t...  \n",
       "1472  [tensor(1), tensor(1), tensor(1), tensor(1), t...  \n",
       "1473  [tensor(1), tensor(1), tensor(1), tensor(1), t...  \n",
       "1474  [tensor(1), tensor(1), tensor(1), tensor(1), t...  \n",
       "1475  [tensor(1), tensor(1), tensor(1), tensor(1), t...  \n",
       "\n",
       "[1476 rows x 6 columns]"
      ]
     },
     "execution_count": 386,
     "metadata": {},
     "output_type": "execute_result"
    }
   ],
   "source": [
    "train_df_segments"
   ]
  },
  {
   "cell_type": "code",
   "execution_count": 441,
   "metadata": {},
   "outputs": [
    {
     "name": "stdout",
     "output_type": "stream",
     "text": [
      "and that's all I see on that .\n",
      "okay, I see a boy in the cookie jar .\n",
      "I see he has the lid off .\n",
      "I see that he is standing on a three legged stool and he's about todepart from that three legged stool .\n",
      "he has one cookie in his hand, handin(g) it down to his sister andshe's reaching up for it .\n",
      "and I think she's indicating to the boy to keep still so his motherdoesn't hear what's going on .\n",
      "I see the mother .\n",
      "&uh I guess she's drying the dishes and she's not paying attentionbecause she's &uh leavin(g) the sink run over and it's spillin(g)all over the floor .\n",
      "and she must not be conscious because she's standing in it anddoesn't know it .\n",
      "&um &sh I think she must  I think she's probably lookin(g)out the window as I take the second look .\n",
      "and I see apparently a couple dirty dishes on the table+top .\n",
      "I see the cupboards .\n",
      "&uh I don't know whether they all have knobs on them or not .\n",
      "doesn't look like the two where the boy and the girl are have knobson the cupboard door .\n",
      "and I see outside .\n",
      "I see &uh apparently it's a tree, some shrubbery and some hedges .\n",
      "about it ?\n",
      "(.) I don't see xxx .\n",
      "(loo)ks like somebody took some pencils or somethin(g) and went upand down those xxx them things .\n",
      "all I see  I see a girl standin(g) there or somethin(g) orother .\n",
      "(.) some little knots\n",
      "I don't know .\n",
      "(.) some kind of a xxx pan or somethin(g) .\n",
      "(.) and that girl is there .\n",
      "(.) and there's somethin(g) else over there .\n",
      "(.) there's another girl (.) look like .\n",
      "looks +/.\n",
      "look like some\n",
      "I don't see nothin(g) else .\n",
      "some of xxx and things .\n",
      "look to me like the same except them things up there .\n",
      "(..) I see this they all look  looked about the same to meexcept this thing here .\n",
      "look like a little kid the same .\n",
      "(.) I'm sorry I didn't bring my glasses .\n",
      "well the kid's standin(g) on a tilted stool gettin(g) cookies .\n",
      "the water's runnin(g) out o(f) the sink .\n",
      "the girl has two different shoes on .\n",
      "the stool is tilted .\n",
      "(..) the cookie jar is not a jar it's  it's a &uhtin  tin dish or whatever .\n",
      "okay he's fallin(g) off a chair  .\n",
      "she's &uh running the water over .\n",
      "can't see anything else .\n",
      "no .\n",
      "+ okay .\n",
      "she's\n",
      "no .\n",
      "oh sure .\n",
      "the little girl's standing in the kitchen .\n",
      "and then the little boy steps on a  to get some cookies .\n",
      "and he's about to fall down .\n",
      "and his mother isn't aware of it yet .\n",
      "she's still washing dishes .\n",
      "and then the sink ran over I guess when she got excited .\n",
      "and it's going down on a  on the &s floor in the kitchen .\n",
      "and she's trying to dry the dishes .\n",
      "and she's just standing there .\n",
      "she still has dishes to go I guess .\n",
      "and this little boy is about to fall .\n",
      "and this little girl is smiling at him because he's going for thecookies in the cookie jar &=laughs .\n",
      "you want me to tell you ?\n",
      "okay &uh the boy's getting in the cookie jar .\n",
      "his sister's waiting for cookies .\n",
      "the mother's washing dishes and water's spilling over .\n",
      "&uh can see the walk and the grass outside in the window .\n",
      "the &uh stool's about ready to fall .\n",
      "the cupboard door's open .\n",
      "touching lip .\n",
      "raising arm .\n",
      "is that what you mean ?\n",
      "+ &lea reaching for cookie .\n",
      "handing cookie down .\n",
      "slipping from stool .\n",
      "stool falling over .\n",
      "&um wiping dishes .\n",
      "water running .\n",
      "water overflowing .\n",
      "&um breeze .\n",
      "I don't know if that's action .\n",
      "&um stepping out from water .\n",
      "I guess that's it .\n",
      "well ‡ the boy's trying to get in this cookie jar .\n",
      "and the stool overturns .\n",
      "and &uh the little girl is expecting to hand her a cookie .\n",
      "&uh the mother is  her sink is running over .\n",
      "and she's standing in some of the water .\n",
      "and &uh she's drying a dish or wiping a dish .\n",
      "and &uh (.) you said everything is happening .\n",
      "(..) well ‡ the water is still runnin(g) in the sink .\n",
      "and I said it's  it's overflowing .\n",
      "and she's standing in the water .\n",
      "and that's +...\n",
      "I guess .\n",
      "look ‡ somebody laying in the lawn out there .\n",
      "but I can't &uh &=laughs +...\n",
      "mhm .\n",
      "there's a young boy &uh going in a cookie jar .\n",
      "and there's a  young girl .\n",
      "and I'm sayin(g) he's a boy (be)cause you can  &hard it'shardly  hard to tell anymore .\n",
      "&uh and he's  he's in the &c &t cookie jar .\n",
      "and there's a &s stool that he is on and it already is starting tofall over .\n"
     ]
    },
    {
     "data": {
      "text/plain": [
       "[None,\n",
       " None,\n",
       " None,\n",
       " None,\n",
       " None,\n",
       " None,\n",
       " None,\n",
       " None,\n",
       " None,\n",
       " None,\n",
       " None,\n",
       " None,\n",
       " None,\n",
       " None,\n",
       " None,\n",
       " None,\n",
       " None,\n",
       " None,\n",
       " None,\n",
       " None,\n",
       " None,\n",
       " None,\n",
       " None,\n",
       " None,\n",
       " None,\n",
       " None,\n",
       " None,\n",
       " None,\n",
       " None,\n",
       " None,\n",
       " None,\n",
       " None,\n",
       " None,\n",
       " None,\n",
       " None,\n",
       " None,\n",
       " None,\n",
       " None,\n",
       " None,\n",
       " None,\n",
       " None,\n",
       " None,\n",
       " None,\n",
       " None,\n",
       " None,\n",
       " None,\n",
       " None,\n",
       " None,\n",
       " None,\n",
       " None,\n",
       " None,\n",
       " None,\n",
       " None,\n",
       " None,\n",
       " None,\n",
       " None,\n",
       " None,\n",
       " None,\n",
       " None,\n",
       " None,\n",
       " None,\n",
       " None,\n",
       " None,\n",
       " None,\n",
       " None,\n",
       " None,\n",
       " None,\n",
       " None,\n",
       " None,\n",
       " None,\n",
       " None,\n",
       " None,\n",
       " None,\n",
       " None,\n",
       " None,\n",
       " None,\n",
       " None,\n",
       " None,\n",
       " None,\n",
       " None,\n",
       " None,\n",
       " None,\n",
       " None,\n",
       " None,\n",
       " None,\n",
       " None,\n",
       " None,\n",
       " None,\n",
       " None,\n",
       " None,\n",
       " None,\n",
       " None,\n",
       " None,\n",
       " None,\n",
       " None,\n",
       " None,\n",
       " None,\n",
       " None,\n",
       " None,\n",
       " None]"
      ]
     },
     "execution_count": 441,
     "metadata": {},
     "output_type": "execute_result"
    }
   ],
   "source": [
    "[print(l) for l in train_df_segments.speech_sent[100:200]]"
   ]
  },
  {
   "cell_type": "code",
   "execution_count": null,
   "metadata": {},
   "outputs": [],
   "source": [
    "class AD_LSTM(torch.nn.Module):\n",
    "    \n",
    "    def __init__(self, input_dim: int, layers=2, hidden_dim=300, dropout=.5, layers=1):\n",
    "        self.rnn = torch.nn.LSTM(input_dim, hidden_dim, layers)\n",
    "        self.dropout = torch.nn.Dropout(dropout)\n",
    "        self.fc1 = torch.nn.Linear(hidden_dim, 1)\n",
    "\n",
    "    def forward(self, x, mask):\n",
    "        # ignore padding\n",
    "        x = torch.nn.utils.rnn.pack_padded_sequence(x, mask.sum(1).int().view(-1), batch_first=True, enforce_sorted=False)\n",
    "        x, hidden = self.rnn(x)\n",
    "        x, _ = torch.nn.utils.pad_packed_sequence(x, batch_first=True)\n",
    "        rows = torch.arange(0, x.size(0).long())\n",
    "\n",
    "        x = self.fc1(x)\n",
    "        x = self.dropout(x)\n",
    "        return x"
   ]
  },
  {
   "cell_type": "code",
   "execution_count": null,
   "metadata": {},
   "outputs": [],
   "source": []
  },
  {
   "cell_type": "code",
   "execution_count": null,
   "metadata": {},
   "outputs": [],
   "source": [
    "class BertForADClassification(torch.nn.Module):\n",
    "    def __init__(self, bertModel, time_dims,):\n",
    "        super().__init__()\n",
    "        \n",
    "        self.bertModel = bertModel\n",
    "        self.dropout = torch.nn.Dropout(0.5)\n",
    "        \n",
    "        # separate Linear for OHE of time\n",
    "        bert_hidden_dim = self.bertModel\n",
    "    \n",
    "        self.classifier = nn.Linear()\n",
    "    \n",
    "    def forward(input_ids, attention_mask):\n",
    "        last_hidden_states = self.bertModel(input_ids, attention_mask=attention_mask)\n",
    "        features = last_hidden_states[:,0,:]"
   ]
  },
  {
   "cell_type": "code",
   "execution_count": null,
   "metadata": {},
   "outputs": [],
   "source": []
  },
  {
   "cell_type": "code",
   "execution_count": null,
   "metadata": {},
   "outputs": [],
   "source": [
    "# Concat all features\n",
    "features = np.hstack([bert_features, time_features])"
   ]
  },
  {
   "cell_type": "code",
   "execution_count": null,
   "metadata": {},
   "outputs": [],
   "source": [
    "from sklearn.dummy import DummyClassifier\n",
    "clf = DummyClassifier()\n",
    "\n",
    "scores = cross_val_score(clf, train_features, train_labels)\n",
    "print(\"Dummy classifier score: %0.3f (+/- %0.2f)\" % (scores.mean(), scores.std() * 2))"
   ]
  }
 ],
 "metadata": {
  "kernelspec": {
   "display_name": "Python [conda env:distil_bert]",
   "language": "python",
   "name": "conda-env-distil_bert-py"
  },
  "language_info": {
   "codemirror_mode": {
    "name": "ipython",
    "version": 3
   },
   "file_extension": ".py",
   "mimetype": "text/x-python",
   "name": "python",
   "nbconvert_exporter": "python",
   "pygments_lexer": "ipython3",
   "version": "3.7.7"
  }
 },
 "nbformat": 4,
 "nbformat_minor": 4
}
